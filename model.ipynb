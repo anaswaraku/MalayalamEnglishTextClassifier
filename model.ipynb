{
 "cells": [
  {
   "cell_type": "code",
   "execution_count": 2,
   "id": "589c2622",
   "metadata": {},
   "outputs": [],
   "source": [
    "#load english and malayalam text\n",
    "with open(\"D:/GitRepos/Datasets/train.en\",\"r\",encoding=\"utf-8\") as english:\n",
    "    eng_lines = english.read().splitlines()\n",
    "with open(\"D:/GitRepos/Datasets/train.ml\",\"r\",encoding=\"utf-8\") as malayalam:\n",
    "    mal_lines = malayalam.read().splitlines()\n",
    "\n",
    "eng_labels = ['eng'] * len(eng_lines)\n",
    "mal_labels = ['mal'] * len(mal_lines)"
   ]
  },
  {
   "cell_type": "code",
   "execution_count": 3,
   "id": "c27c0861",
   "metadata": {},
   "outputs": [],
   "source": [
    "import string\n",
    "#digits and special characters\n",
    "digits = list(string.digits)\n",
    "spcl_char = list(string.punctuation)\n",
    "\n",
    "all_chars = digits+spcl_char\n",
    "\n",
    "char_labels = ['dp']*len(all_chars)"
   ]
  },
  {
   "cell_type": "code",
   "execution_count": 4,
   "id": "8b464cdf",
   "metadata": {},
   "outputs": [],
   "source": [
    "texts = eng_lines+mal_lines+all_chars\n",
    "labels = eng_labels+mal_labels+char_labels"
   ]
  },
  {
   "cell_type": "code",
   "execution_count": 5,
   "id": "17531b9a",
   "metadata": {},
   "outputs": [
    {
     "data": {
      "text/html": [
       "<div>\n",
       "<style scoped>\n",
       "    .dataframe tbody tr th:only-of-type {\n",
       "        vertical-align: middle;\n",
       "    }\n",
       "\n",
       "    .dataframe tbody tr th {\n",
       "        vertical-align: top;\n",
       "    }\n",
       "\n",
       "    .dataframe thead th {\n",
       "        text-align: right;\n",
       "    }\n",
       "</style>\n",
       "<table border=\"1\" class=\"dataframe\">\n",
       "  <thead>\n",
       "    <tr style=\"text-align: right;\">\n",
       "      <th></th>\n",
       "      <th>text</th>\n",
       "      <th>label</th>\n",
       "    </tr>\n",
       "  </thead>\n",
       "  <tbody>\n",
       "    <tr>\n",
       "      <th>0</th>\n",
       "      <td>The plot of the movie revolves around the life...</td>\n",
       "      <td>eng</td>\n",
       "    </tr>\n",
       "    <tr>\n",
       "      <th>1</th>\n",
       "      <td>The same as on the stone.</td>\n",
       "      <td>eng</td>\n",
       "    </tr>\n",
       "    <tr>\n",
       "      <th>2</th>\n",
       "      <td>Oommen Chandy, Mullappally Ramachandran, Rames...</td>\n",
       "      <td>eng</td>\n",
       "    </tr>\n",
       "    <tr>\n",
       "      <th>3</th>\n",
       "      <td>Many were arrested and jailed.</td>\n",
       "      <td>eng</td>\n",
       "    </tr>\n",
       "    <tr>\n",
       "      <th>4</th>\n",
       "      <td>what has happened?</td>\n",
       "      <td>eng</td>\n",
       "    </tr>\n",
       "  </tbody>\n",
       "</table>\n",
       "</div>"
      ],
      "text/plain": [
       "                                                text label\n",
       "0  The plot of the movie revolves around the life...   eng\n",
       "1                          The same as on the stone.   eng\n",
       "2  Oommen Chandy, Mullappally Ramachandran, Rames...   eng\n",
       "3                     Many were arrested and jailed.   eng\n",
       "4                                 what has happened?   eng"
      ]
     },
     "execution_count": 5,
     "metadata": {},
     "output_type": "execute_result"
    }
   ],
   "source": [
    "\n",
    "import pandas as pd\n",
    "df = pd.DataFrame({'text': texts, 'label': labels})\n",
    "df.head()"
   ]
  },
  {
   "cell_type": "code",
   "execution_count": 6,
   "id": "1440e04f",
   "metadata": {},
   "outputs": [],
   "source": [
    "\n",
    "from sklearn.model_selection import train_test_split\n",
    "\n",
    "X_train, X_test, y_train, y_test = train_test_split(df['text'], df['label'], test_size=0.2, random_state=42)\n"
   ]
  },
  {
   "cell_type": "code",
   "execution_count": 7,
   "id": "655a360e",
   "metadata": {},
   "outputs": [
    {
     "name": "stdout",
     "output_type": "stream",
     "text": [
      "Number of classes: 3\n",
      "Classes: {'mal', 'eng', 'dp'}\n"
     ]
    }
   ],
   "source": [
    "\n",
    "print(\"Number of classes:\", len(set(y_train)))\n",
    "print(\"Classes:\", set(y_train))"
   ]
  },
  {
   "cell_type": "code",
   "execution_count": 8,
   "id": "c561f569",
   "metadata": {},
   "outputs": [],
   "source": [
    "\n",
    "from sklearn.pipeline import make_pipeline\n",
    "from sklearn.feature_extraction.text import TfidfVectorizer\n",
    "from sklearn.naive_bayes import MultinomialNB\n",
    "from sklearn.metrics import accuracy_score, classification_report\n"
   ]
  },
  {
   "cell_type": "markdown",
   "id": "a35afe5e",
   "metadata": {},
   "source": [
    "\n",
    "TfidfVectorizer: Converts text to TF-IDF features\n",
    "\n",
    "MultinomialNB: Classifier for predicting language labels"
   ]
  },
  {
   "cell_type": "code",
   "execution_count": 9,
   "id": "50971dad",
   "metadata": {},
   "outputs": [],
   "source": [
    "\n",
    "model = make_pipeline(\n",
    "    TfidfVectorizer(token_pattern=r'(?u)\\b\\w+\\b'),\n",
    "    MultinomialNB()\n",
    ")"
   ]
  },
  {
   "cell_type": "code",
   "execution_count": 10,
   "id": "381d796c",
   "metadata": {},
   "outputs": [],
   "source": [
    "\n",
    "model.fit(X_train, y_train)\n",
    "def predict_with_filter(text):\n",
    "    if all(char in string.digits + string.punctuation for char in text):\n",
    "        return 'dp'\n",
    "    return model.predict([text])"
   ]
  },
  {
   "cell_type": "code",
   "execution_count": 12,
   "id": "2f8a0838",
   "metadata": {},
   "outputs": [
    {
     "name": "stdout",
     "output_type": "stream",
     "text": [
      "['eng']\n",
      "['mal']\n",
      "dp\n"
     ]
    }
   ],
   "source": [
    "\n",
    "print(predict_with_filter(\"This is a sample sentence\"))        \n",
    "print(predict_with_filter(\"ഇത് ഒരു ഉദാഹരണ വാചകമാണ്\"))  \n",
    "print(predict_with_filter('1'))  "
   ]
  },
  {
   "cell_type": "code",
   "execution_count": 15,
   "id": "dab65c74",
   "metadata": {},
   "outputs": [
    {
     "name": "stdout",
     "output_type": "stream",
     "text": [
      " Digits/Punctuations\n"
     ]
    }
   ],
   "source": [
    "\n",
    "# Get user input\n",
    "sentence = input(\"Enter a sentence: \")\n",
    "\n",
    "# Predict the language using your trained model\n",
    "prediction = predict_with_filter(sentence)\n",
    "if prediction ==['eng']:\n",
    "    print(sentence, \"English Language\")\n",
    "elif prediction==['mal']:\n",
    "    print(sentence,'Malayalam Language')\n",
    "elif prediction=='dp':\n",
    "    print(sentence,'Digits/Punctuations')\n",
    "else: \n",
    "    print(\"Unknown\")\n"
   ]
  },
  {
   "cell_type": "code",
   "execution_count": 16,
   "id": "52c61c36",
   "metadata": {},
   "outputs": [],
   "source": [
    "import pickle\n",
    "with open('model.pkl', 'wb') as f:\n",
    "    pickle.dump(model, f, protocol=5)\n",
    "\n",
    "with open('model.pkl', 'rb') as f:\n",
    "    loaded = pickle.load(f)\n"
   ]
  }
 ],
 "metadata": {
  "kernelspec": {
   "display_name": "Python 3",
   "language": "python",
   "name": "python3"
  },
  "language_info": {
   "codemirror_mode": {
    "name": "ipython",
    "version": 3
   },
   "file_extension": ".py",
   "mimetype": "text/x-python",
   "name": "python",
   "nbconvert_exporter": "python",
   "pygments_lexer": "ipython3",
   "version": "3.12.10"
  }
 },
 "nbformat": 4,
 "nbformat_minor": 5
}
